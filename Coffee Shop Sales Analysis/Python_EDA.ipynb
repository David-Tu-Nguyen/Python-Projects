{
 "cells": [
  {
   "cell_type": "code",
   "execution_count": 1,
   "id": "f83140d1-2cae-4ee3-a2c0-ba8ee7e5b3b5",
   "metadata": {},
   "outputs": [],
   "source": [
    "import pandas as pd\n",
    "import numpy as np\n",
    "import matplotlib.pyplot as plt\n",
    "import seaborn as sns"
   ]
  },
  {
   "cell_type": "code",
   "execution_count": 6,
   "id": "8493c224-72c8-4d20-a3ac-cc4156ae7b15",
   "metadata": {},
   "outputs": [
    {
     "data": {
      "text/html": [
       "<div>\n",
       "<style scoped>\n",
       "    .dataframe tbody tr th:only-of-type {\n",
       "        vertical-align: middle;\n",
       "    }\n",
       "\n",
       "    .dataframe tbody tr th {\n",
       "        vertical-align: top;\n",
       "    }\n",
       "\n",
       "    .dataframe thead th {\n",
       "        text-align: right;\n",
       "    }\n",
       "</style>\n",
       "<table border=\"1\" class=\"dataframe\">\n",
       "  <thead>\n",
       "    <tr style=\"text-align: right;\">\n",
       "      <th></th>\n",
       "      <th>transaction_id</th>\n",
       "      <th>transaction_date</th>\n",
       "      <th>transaction_time</th>\n",
       "      <th>store_id</th>\n",
       "      <th>store_location</th>\n",
       "      <th>product_id</th>\n",
       "      <th>transaction_qty</th>\n",
       "      <th>unit_price</th>\n",
       "      <th>Total_Bill</th>\n",
       "      <th>product_category</th>\n",
       "      <th>product_type</th>\n",
       "      <th>product_detail</th>\n",
       "      <th>Size</th>\n",
       "      <th>Month Name</th>\n",
       "      <th>Day Name</th>\n",
       "      <th>Hour</th>\n",
       "      <th>Month</th>\n",
       "      <th>Day of Week</th>\n",
       "    </tr>\n",
       "  </thead>\n",
       "  <tbody>\n",
       "    <tr>\n",
       "      <th>0</th>\n",
       "      <td>114301</td>\n",
       "      <td>01-06-2023</td>\n",
       "      <td>11:33:29</td>\n",
       "      <td>3</td>\n",
       "      <td>Astoria</td>\n",
       "      <td>45</td>\n",
       "      <td>1</td>\n",
       "      <td>3.0</td>\n",
       "      <td>3.0</td>\n",
       "      <td>Tea</td>\n",
       "      <td>Brewed herbal tea</td>\n",
       "      <td>Peppermint</td>\n",
       "      <td>Large</td>\n",
       "      <td>June</td>\n",
       "      <td>Thursday</td>\n",
       "      <td>11</td>\n",
       "      <td>6</td>\n",
       "      <td>3</td>\n",
       "    </tr>\n",
       "    <tr>\n",
       "      <th>1</th>\n",
       "      <td>115405</td>\n",
       "      <td>02-06-2023</td>\n",
       "      <td>11:18:24</td>\n",
       "      <td>3</td>\n",
       "      <td>Astoria</td>\n",
       "      <td>45</td>\n",
       "      <td>1</td>\n",
       "      <td>3.0</td>\n",
       "      <td>3.0</td>\n",
       "      <td>Tea</td>\n",
       "      <td>Brewed herbal tea</td>\n",
       "      <td>Peppermint</td>\n",
       "      <td>Large</td>\n",
       "      <td>June</td>\n",
       "      <td>Friday</td>\n",
       "      <td>11</td>\n",
       "      <td>6</td>\n",
       "      <td>4</td>\n",
       "    </tr>\n",
       "    <tr>\n",
       "      <th>2</th>\n",
       "      <td>115478</td>\n",
       "      <td>02-06-2023</td>\n",
       "      <td>12:02:45</td>\n",
       "      <td>3</td>\n",
       "      <td>Astoria</td>\n",
       "      <td>45</td>\n",
       "      <td>1</td>\n",
       "      <td>3.0</td>\n",
       "      <td>3.0</td>\n",
       "      <td>Tea</td>\n",
       "      <td>Brewed herbal tea</td>\n",
       "      <td>Peppermint</td>\n",
       "      <td>Large</td>\n",
       "      <td>June</td>\n",
       "      <td>Friday</td>\n",
       "      <td>12</td>\n",
       "      <td>6</td>\n",
       "      <td>4</td>\n",
       "    </tr>\n",
       "    <tr>\n",
       "      <th>3</th>\n",
       "      <td>116288</td>\n",
       "      <td>02-06-2023</td>\n",
       "      <td>19:39:47</td>\n",
       "      <td>3</td>\n",
       "      <td>Astoria</td>\n",
       "      <td>45</td>\n",
       "      <td>1</td>\n",
       "      <td>3.0</td>\n",
       "      <td>3.0</td>\n",
       "      <td>Tea</td>\n",
       "      <td>Brewed herbal tea</td>\n",
       "      <td>Peppermint</td>\n",
       "      <td>Large</td>\n",
       "      <td>June</td>\n",
       "      <td>Friday</td>\n",
       "      <td>19</td>\n",
       "      <td>6</td>\n",
       "      <td>4</td>\n",
       "    </tr>\n",
       "    <tr>\n",
       "      <th>4</th>\n",
       "      <td>116714</td>\n",
       "      <td>03-06-2023</td>\n",
       "      <td>12:24:57</td>\n",
       "      <td>3</td>\n",
       "      <td>Astoria</td>\n",
       "      <td>45</td>\n",
       "      <td>1</td>\n",
       "      <td>3.0</td>\n",
       "      <td>3.0</td>\n",
       "      <td>Tea</td>\n",
       "      <td>Brewed herbal tea</td>\n",
       "      <td>Peppermint</td>\n",
       "      <td>Large</td>\n",
       "      <td>June</td>\n",
       "      <td>Saturday</td>\n",
       "      <td>12</td>\n",
       "      <td>6</td>\n",
       "      <td>5</td>\n",
       "    </tr>\n",
       "  </tbody>\n",
       "</table>\n",
       "</div>"
      ],
      "text/plain": [
       "   transaction_id transaction_date transaction_time  store_id store_location  \\\n",
       "0          114301       01-06-2023         11:33:29         3        Astoria   \n",
       "1          115405       02-06-2023         11:18:24         3        Astoria   \n",
       "2          115478       02-06-2023         12:02:45         3        Astoria   \n",
       "3          116288       02-06-2023         19:39:47         3        Astoria   \n",
       "4          116714       03-06-2023         12:24:57         3        Astoria   \n",
       "\n",
       "   product_id  transaction_qty  unit_price  Total_Bill product_category  \\\n",
       "0          45                1         3.0         3.0              Tea   \n",
       "1          45                1         3.0         3.0              Tea   \n",
       "2          45                1         3.0         3.0              Tea   \n",
       "3          45                1         3.0         3.0              Tea   \n",
       "4          45                1         3.0         3.0              Tea   \n",
       "\n",
       "        product_type product_detail   Size Month Name  Day Name  Hour  Month  \\\n",
       "0  Brewed herbal tea     Peppermint  Large       June  Thursday    11      6   \n",
       "1  Brewed herbal tea     Peppermint  Large       June    Friday    11      6   \n",
       "2  Brewed herbal tea     Peppermint  Large       June    Friday    12      6   \n",
       "3  Brewed herbal tea     Peppermint  Large       June    Friday    19      6   \n",
       "4  Brewed herbal tea     Peppermint  Large       June  Saturday    12      6   \n",
       "\n",
       "   Day of Week  \n",
       "0            3  \n",
       "1            4  \n",
       "2            4  \n",
       "3            4  \n",
       "4            5  "
      ]
     },
     "execution_count": 6,
     "metadata": {},
     "output_type": "execute_result"
    }
   ],
   "source": [
    "df = pd.read_csv(r\"C:\\2025\\BA  - 2025\\Project and Workshop\\BI_Coffee Sales\\archive\\Project.csv\")\n",
    "df.head()"
   ]
  },
  {
   "cell_type": "code",
   "execution_count": 7,
   "id": "fca8db22-74fd-4634-8c1c-8f4d5ac6c005",
   "metadata": {},
   "outputs": [
    {
     "data": {
      "text/plain": [
       "transaction_id      0\n",
       "transaction_date    0\n",
       "transaction_time    0\n",
       "store_id            0\n",
       "store_location      0\n",
       "product_id          0\n",
       "transaction_qty     0\n",
       "unit_price          0\n",
       "Total_Bill          0\n",
       "product_category    0\n",
       "product_type        0\n",
       "product_detail      0\n",
       "Size                0\n",
       "Month Name          0\n",
       "Day Name            0\n",
       "Hour                0\n",
       "Month               0\n",
       "Day of Week         0\n",
       "dtype: int64"
      ]
     },
     "execution_count": 7,
     "metadata": {},
     "output_type": "execute_result"
    }
   ],
   "source": [
    "# checking for nulls\n",
    "df.isnull().sum()"
   ]
  },
  {
   "cell_type": "code",
   "execution_count": 8,
   "id": "e8205f11-a96f-4fd6-9aff-d1e54e1fbb05",
   "metadata": {},
   "outputs": [],
   "source": [
    "# dropping \"product_id\" and \"store_id\"\n",
    "df.drop(columns = [\"store_id\", \"product_id\"], inplace = True)"
   ]
  },
  {
   "cell_type": "code",
   "execution_count": 9,
   "id": "534e0f56-efb9-4ade-9e98-6bdca0802d17",
   "metadata": {},
   "outputs": [],
   "source": [
    "# rename columns\n",
    "df.rename(columns = {'transaction_id': 'id',\n",
    "                     'transaction_date': 'date',\n",
    "                     'transaction_time': 'time',\n",
    "                     'transaction_qty': 'quantity',\n",
    "                     'store_location': 'location',\n",
    "                     'product_category': 'category',\n",
    "                     'product_type': 'product',\n",
    "                     'product_detail': 'detail'}, inplace = True)"
   ]
  },
  {
   "cell_type": "code",
   "execution_count": 10,
   "id": "f61a3e70-7434-4d37-8883-2c9b900f3634",
   "metadata": {},
   "outputs": [
    {
     "data": {
      "text/plain": [
       "np.False_"
      ]
     },
     "execution_count": 10,
     "metadata": {},
     "output_type": "execute_result"
    }
   ],
   "source": [
    "# check duplicated rows\n",
    "df.duplicated().any()"
   ]
  },
  {
   "cell_type": "code",
   "execution_count": 11,
   "id": "286c2a07-5980-42f1-a706-13d873806276",
   "metadata": {},
   "outputs": [
    {
     "data": {
      "text/html": [
       "<div>\n",
       "<style scoped>\n",
       "    .dataframe tbody tr th:only-of-type {\n",
       "        vertical-align: middle;\n",
       "    }\n",
       "\n",
       "    .dataframe tbody tr th {\n",
       "        vertical-align: top;\n",
       "    }\n",
       "\n",
       "    .dataframe thead th {\n",
       "        text-align: right;\n",
       "    }\n",
       "</style>\n",
       "<table border=\"1\" class=\"dataframe\">\n",
       "  <thead>\n",
       "    <tr style=\"text-align: right;\">\n",
       "      <th></th>\n",
       "      <th>id</th>\n",
       "      <th>date</th>\n",
       "      <th>time</th>\n",
       "      <th>location</th>\n",
       "      <th>quantity</th>\n",
       "      <th>unit_price</th>\n",
       "      <th>Total_Bill</th>\n",
       "      <th>category</th>\n",
       "      <th>product</th>\n",
       "      <th>detail</th>\n",
       "      <th>Size</th>\n",
       "      <th>Month Name</th>\n",
       "      <th>Day Name</th>\n",
       "      <th>Hour</th>\n",
       "      <th>Month</th>\n",
       "      <th>Day of Week</th>\n",
       "    </tr>\n",
       "  </thead>\n",
       "  <tbody>\n",
       "  </tbody>\n",
       "</table>\n",
       "</div>"
      ],
      "text/plain": [
       "Empty DataFrame\n",
       "Columns: [id, date, time, location, quantity, unit_price, Total_Bill, category, product, detail, Size, Month Name, Day Name, Hour, Month, Day of Week]\n",
       "Index: []"
      ]
     },
     "execution_count": 11,
     "metadata": {},
     "output_type": "execute_result"
    }
   ],
   "source": [
    "# Find duplicated rows based on the 'id' column\n",
    "duplicates = df[df.duplicated(subset='id', keep=False)]\n",
    "duplicates"
   ]
  },
  {
   "cell_type": "code",
   "execution_count": 12,
   "id": "9aaa6d32-e3a8-4984-9390-084e5df2ae4f",
   "metadata": {},
   "outputs": [
    {
     "name": "stdout",
     "output_type": "stream",
     "text": [
      "<class 'pandas.core.frame.DataFrame'>\n",
      "RangeIndex: 149116 entries, 0 to 149115\n",
      "Data columns (total 16 columns):\n",
      " #   Column       Non-Null Count   Dtype  \n",
      "---  ------       --------------   -----  \n",
      " 0   id           149116 non-null  int64  \n",
      " 1   date         149116 non-null  object \n",
      " 2   time         149116 non-null  object \n",
      " 3   location     149116 non-null  object \n",
      " 4   quantity     149116 non-null  int64  \n",
      " 5   unit_price   149116 non-null  float64\n",
      " 6   Total_Bill   149116 non-null  float64\n",
      " 7   category     149116 non-null  object \n",
      " 8   product      149116 non-null  object \n",
      " 9   detail       149116 non-null  object \n",
      " 10  Size         149116 non-null  object \n",
      " 11  Month Name   149116 non-null  object \n",
      " 12  Day Name     149116 non-null  object \n",
      " 13  Hour         149116 non-null  int64  \n",
      " 14  Month        149116 non-null  int64  \n",
      " 15  Day of Week  149116 non-null  int64  \n",
      "dtypes: float64(2), int64(5), object(9)\n",
      "memory usage: 18.2+ MB\n"
     ]
    }
   ],
   "source": [
    "# summary\n",
    "df.info()"
   ]
  },
  {
   "cell_type": "code",
   "execution_count": 13,
   "id": "57663ca6-d452-4e16-af44-dbc449f18f5b",
   "metadata": {},
   "outputs": [],
   "source": [
    "# converting date to datetime\n",
    "df['date'] = pd.to_datetime(df['date'], dayfirst=True)"
   ]
  },
  {
   "cell_type": "code",
   "execution_count": 14,
   "id": "ae9dcdc4-0322-404d-a12b-7b6f23819609",
   "metadata": {},
   "outputs": [],
   "source": [
    "# sales\n",
    "df['sales'] = df['quantity'] * df['unit_price']"
   ]
  },
  {
   "cell_type": "code",
   "execution_count": 15,
   "id": "57f5e89f-dc33-42a5-8df8-c7523ca5edec",
   "metadata": {},
   "outputs": [],
   "source": [
    "# extract the month as a full name\n",
    "df['month'] = df['date'].dt.strftime('%B')"
   ]
  },
  {
   "cell_type": "code",
   "execution_count": 16,
   "id": "c16c5ba2-c58c-4580-96ef-4c905befdba5",
   "metadata": {},
   "outputs": [],
   "source": [
    "# extract the day and year\n",
    "df['day'] = df['date'].dt.day\n",
    "df['year'] = df['date'].dt.year"
   ]
  },
  {
   "cell_type": "code",
   "execution_count": 17,
   "id": "70f8be1c-bfab-4c07-acb2-f325ccabac6e",
   "metadata": {},
   "outputs": [],
   "source": [
    "# get the weekday name\n",
    "df['weekday'] = df['date'].dt.day_name()"
   ]
  },
  {
   "cell_type": "code",
   "execution_count": 18,
   "id": "3650b91e-d0f8-4e6e-af94-4b3950738c2d",
   "metadata": {},
   "outputs": [],
   "source": [
    "# extracting the hour from time\n",
    "df['hour'] = pd.to_datetime(df['time'], format='%H:%M:%S').dt.hour"
   ]
  },
  {
   "cell_type": "code",
   "execution_count": 19,
   "id": "49c91715-b010-42d2-a615-588753e16205",
   "metadata": {},
   "outputs": [],
   "source": [
    "# defining the time of the day\n",
    "def get_time_of_day(hour):\n",
    "    if hour < 12:\n",
    "        return 'Morning'\n",
    "    elif 12 <= hour < 18:\n",
    "        return 'Afternoon'\n",
    "    else:\n",
    "        return 'Evening'"
   ]
  },
  {
   "cell_type": "code",
   "execution_count": 20,
   "id": "cf928644-8d9f-45ff-b1e9-bc51c8362a08",
   "metadata": {
    "scrolled": true
   },
   "outputs": [],
   "source": [
    "df['time_of_day'] = df['hour'].apply(get_time_of_day)"
   ]
  },
  {
   "cell_type": "code",
   "execution_count": 22,
   "id": "f4f91193-2069-4f1c-8c72-034bdaa1f37d",
   "metadata": {},
   "outputs": [
    {
     "data": {
      "text/html": [
       "<div>\n",
       "<style scoped>\n",
       "    .dataframe tbody tr th:only-of-type {\n",
       "        vertical-align: middle;\n",
       "    }\n",
       "\n",
       "    .dataframe tbody tr th {\n",
       "        vertical-align: top;\n",
       "    }\n",
       "\n",
       "    .dataframe thead th {\n",
       "        text-align: right;\n",
       "    }\n",
       "</style>\n",
       "<table border=\"1\" class=\"dataframe\">\n",
       "  <thead>\n",
       "    <tr style=\"text-align: right;\">\n",
       "      <th></th>\n",
       "      <th>id</th>\n",
       "      <th>date</th>\n",
       "      <th>time</th>\n",
       "      <th>location</th>\n",
       "      <th>quantity</th>\n",
       "      <th>unit_price</th>\n",
       "      <th>Total_Bill</th>\n",
       "      <th>category</th>\n",
       "      <th>product</th>\n",
       "      <th>detail</th>\n",
       "      <th>...</th>\n",
       "      <th>Hour</th>\n",
       "      <th>Month</th>\n",
       "      <th>Day of Week</th>\n",
       "      <th>sales</th>\n",
       "      <th>month</th>\n",
       "      <th>day</th>\n",
       "      <th>year</th>\n",
       "      <th>weekday</th>\n",
       "      <th>hour</th>\n",
       "      <th>time_of_day</th>\n",
       "    </tr>\n",
       "  </thead>\n",
       "  <tbody>\n",
       "    <tr>\n",
       "      <th>0</th>\n",
       "      <td>114301</td>\n",
       "      <td>2023-06-01</td>\n",
       "      <td>11:33:29</td>\n",
       "      <td>Astoria</td>\n",
       "      <td>1</td>\n",
       "      <td>3.0</td>\n",
       "      <td>3.0</td>\n",
       "      <td>Tea</td>\n",
       "      <td>Brewed herbal tea</td>\n",
       "      <td>Peppermint</td>\n",
       "      <td>...</td>\n",
       "      <td>11</td>\n",
       "      <td>6</td>\n",
       "      <td>3</td>\n",
       "      <td>3.0</td>\n",
       "      <td>June</td>\n",
       "      <td>1</td>\n",
       "      <td>2023</td>\n",
       "      <td>Thursday</td>\n",
       "      <td>11</td>\n",
       "      <td>Morning</td>\n",
       "    </tr>\n",
       "    <tr>\n",
       "      <th>1</th>\n",
       "      <td>115405</td>\n",
       "      <td>2023-06-02</td>\n",
       "      <td>11:18:24</td>\n",
       "      <td>Astoria</td>\n",
       "      <td>1</td>\n",
       "      <td>3.0</td>\n",
       "      <td>3.0</td>\n",
       "      <td>Tea</td>\n",
       "      <td>Brewed herbal tea</td>\n",
       "      <td>Peppermint</td>\n",
       "      <td>...</td>\n",
       "      <td>11</td>\n",
       "      <td>6</td>\n",
       "      <td>4</td>\n",
       "      <td>3.0</td>\n",
       "      <td>June</td>\n",
       "      <td>2</td>\n",
       "      <td>2023</td>\n",
       "      <td>Friday</td>\n",
       "      <td>11</td>\n",
       "      <td>Morning</td>\n",
       "    </tr>\n",
       "    <tr>\n",
       "      <th>2</th>\n",
       "      <td>115478</td>\n",
       "      <td>2023-06-02</td>\n",
       "      <td>12:02:45</td>\n",
       "      <td>Astoria</td>\n",
       "      <td>1</td>\n",
       "      <td>3.0</td>\n",
       "      <td>3.0</td>\n",
       "      <td>Tea</td>\n",
       "      <td>Brewed herbal tea</td>\n",
       "      <td>Peppermint</td>\n",
       "      <td>...</td>\n",
       "      <td>12</td>\n",
       "      <td>6</td>\n",
       "      <td>4</td>\n",
       "      <td>3.0</td>\n",
       "      <td>June</td>\n",
       "      <td>2</td>\n",
       "      <td>2023</td>\n",
       "      <td>Friday</td>\n",
       "      <td>12</td>\n",
       "      <td>Afternoon</td>\n",
       "    </tr>\n",
       "    <tr>\n",
       "      <th>3</th>\n",
       "      <td>116288</td>\n",
       "      <td>2023-06-02</td>\n",
       "      <td>19:39:47</td>\n",
       "      <td>Astoria</td>\n",
       "      <td>1</td>\n",
       "      <td>3.0</td>\n",
       "      <td>3.0</td>\n",
       "      <td>Tea</td>\n",
       "      <td>Brewed herbal tea</td>\n",
       "      <td>Peppermint</td>\n",
       "      <td>...</td>\n",
       "      <td>19</td>\n",
       "      <td>6</td>\n",
       "      <td>4</td>\n",
       "      <td>3.0</td>\n",
       "      <td>June</td>\n",
       "      <td>2</td>\n",
       "      <td>2023</td>\n",
       "      <td>Friday</td>\n",
       "      <td>19</td>\n",
       "      <td>Evening</td>\n",
       "    </tr>\n",
       "    <tr>\n",
       "      <th>4</th>\n",
       "      <td>116714</td>\n",
       "      <td>2023-06-03</td>\n",
       "      <td>12:24:57</td>\n",
       "      <td>Astoria</td>\n",
       "      <td>1</td>\n",
       "      <td>3.0</td>\n",
       "      <td>3.0</td>\n",
       "      <td>Tea</td>\n",
       "      <td>Brewed herbal tea</td>\n",
       "      <td>Peppermint</td>\n",
       "      <td>...</td>\n",
       "      <td>12</td>\n",
       "      <td>6</td>\n",
       "      <td>5</td>\n",
       "      <td>3.0</td>\n",
       "      <td>June</td>\n",
       "      <td>3</td>\n",
       "      <td>2023</td>\n",
       "      <td>Saturday</td>\n",
       "      <td>12</td>\n",
       "      <td>Afternoon</td>\n",
       "    </tr>\n",
       "  </tbody>\n",
       "</table>\n",
       "<p>5 rows × 23 columns</p>\n",
       "</div>"
      ],
      "text/plain": [
       "       id       date      time location  quantity  unit_price  Total_Bill  \\\n",
       "0  114301 2023-06-01  11:33:29  Astoria         1         3.0         3.0   \n",
       "1  115405 2023-06-02  11:18:24  Astoria         1         3.0         3.0   \n",
       "2  115478 2023-06-02  12:02:45  Astoria         1         3.0         3.0   \n",
       "3  116288 2023-06-02  19:39:47  Astoria         1         3.0         3.0   \n",
       "4  116714 2023-06-03  12:24:57  Astoria         1         3.0         3.0   \n",
       "\n",
       "  category            product      detail  ... Hour Month Day of Week  sales  \\\n",
       "0      Tea  Brewed herbal tea  Peppermint  ...   11     6           3    3.0   \n",
       "1      Tea  Brewed herbal tea  Peppermint  ...   11     6           4    3.0   \n",
       "2      Tea  Brewed herbal tea  Peppermint  ...   12     6           4    3.0   \n",
       "3      Tea  Brewed herbal tea  Peppermint  ...   19     6           4    3.0   \n",
       "4      Tea  Brewed herbal tea  Peppermint  ...   12     6           5    3.0   \n",
       "\n",
       "   month  day  year   weekday  hour  time_of_day  \n",
       "0   June    1  2023  Thursday    11      Morning  \n",
       "1   June    2  2023    Friday    11      Morning  \n",
       "2   June    2  2023    Friday    12    Afternoon  \n",
       "3   June    2  2023    Friday    19      Evening  \n",
       "4   June    3  2023  Saturday    12    Afternoon  \n",
       "\n",
       "[5 rows x 23 columns]"
      ]
     },
     "execution_count": 22,
     "metadata": {},
     "output_type": "execute_result"
    }
   ],
   "source": [
    "df.head()"
   ]
  },
  {
   "cell_type": "code",
   "execution_count": 23,
   "id": "2bd6ecf0-189b-4796-80f8-4b8f9be753bb",
   "metadata": {},
   "outputs": [],
   "source": [
    "df.to_csv('cleaned_coffee_sales_dataset.csv')"
   ]
  },
  {
   "cell_type": "markdown",
   "id": "cdc8fe19-9eef-4e97-8d79-35231fd6ad73",
   "metadata": {},
   "source": [
    "## EDA & Metrics"
   ]
  },
  {
   "cell_type": "code",
   "execution_count": 24,
   "id": "4d92dfe2-8887-46ec-bc64-eabb8edf32e1",
   "metadata": {},
   "outputs": [],
   "source": [
    "palette = sns.set_palette(sns.color_palette(\"RdBu\"))"
   ]
  },
  {
   "cell_type": "markdown",
   "id": "d5734c5e-fa7d-439e-9305-5c5986f677d5",
   "metadata": {},
   "source": [
    "### 0.1 Total Revenue"
   ]
  },
  {
   "cell_type": "code",
   "execution_count": 25,
   "id": "7a435455-6656-4d47-919b-874da5bcbba9",
   "metadata": {},
   "outputs": [
    {
     "data": {
      "text/plain": [
       "'Total Revenue: $698,812.33'"
      ]
     },
     "execution_count": 25,
     "metadata": {},
     "output_type": "execute_result"
    }
   ],
   "source": [
    "total_revenue = df['sales'].sum()\n",
    "(f'Total Revenue: ${total_revenue:,.2f}')"
   ]
  },
  {
   "cell_type": "markdown",
   "id": "a8d207a5-e380-42c8-9582-aa5a4b477e38",
   "metadata": {},
   "source": [
    "### 0.2 Total Orders"
   ]
  },
  {
   "cell_type": "code",
   "execution_count": 26,
   "id": "b45394b0-96e3-4db9-a02a-e617f60a2e98",
   "metadata": {},
   "outputs": [
    {
     "data": {
      "text/plain": [
       "'Total Order: 149,116.00'"
      ]
     },
     "execution_count": 26,
     "metadata": {},
     "output_type": "execute_result"
    }
   ],
   "source": [
    "total_orders = df['id'].nunique()\n",
    "(f'Total Order: {total_orders:,.2f}')"
   ]
  },
  {
   "cell_type": "markdown",
   "id": "d41b4552-2b17-42f2-b3a8-c07064293dcc",
   "metadata": {},
   "source": [
    "### 0.3 Average Order Value (AOV)"
   ]
  },
  {
   "cell_type": "code",
   "execution_count": 27,
   "id": "391179d4-ea38-4611-bf9a-8f1a5ec8743a",
   "metadata": {},
   "outputs": [
    {
     "data": {
      "text/plain": [
       "'Average Order Value (AOV): 4.69'"
      ]
     },
     "execution_count": 27,
     "metadata": {},
     "output_type": "execute_result"
    }
   ],
   "source": [
    "aov = total_revenue/total_orders\n",
    "(f'Average Order Value (AOV): {aov:,.2f}')"
   ]
  },
  {
   "cell_type": "markdown",
   "id": "392c7107-6314-4e02-bec6-cf351fae43d0",
   "metadata": {},
   "source": [
    "### 0.4 Peak Sales Location & Revenue"
   ]
  },
  {
   "cell_type": "code",
   "execution_count": 28,
   "id": "bb68888e-7591-4303-87db-b74865d07c6e",
   "metadata": {},
   "outputs": [
    {
     "data": {
      "text/plain": [
       "\"Peak Sales Location: Hell's Kitchen\""
      ]
     },
     "execution_count": 28,
     "metadata": {},
     "output_type": "execute_result"
    }
   ],
   "source": [
    "peak_sales_location = df.groupby('location')['sales'].sum().idxmax()\n",
    "(f'Peak Sales Location: {peak_sales_location}')"
   ]
  },
  {
   "cell_type": "code",
   "execution_count": 29,
   "id": "1b343647-2b3b-43f2-ae77-38b7d05ad708",
   "metadata": {},
   "outputs": [
    {
     "data": {
      "text/plain": [
       "'Peak Sales Location: $236,511.17'"
      ]
     },
     "execution_count": 29,
     "metadata": {},
     "output_type": "execute_result"
    }
   ],
   "source": [
    "peak_sales_location_revenue = df.groupby('location')['sales'].sum().max()\n",
    "(f'Peak Sales Location: ${peak_sales_location_revenue:,.2f}')"
   ]
  },
  {
   "cell_type": "markdown",
   "id": "080fdf9a-e86e-48e7-a00a-c3b6e8b92d2c",
   "metadata": {},
   "source": [
    "### 0.5 Sales by Month"
   ]
  },
  {
   "cell_type": "code",
   "execution_count": 30,
   "id": "e15e3da3-590c-426f-b286-330fe0ba51c6",
   "metadata": {},
   "outputs": [
    {
     "data": {
      "text/html": [
       "<div>\n",
       "<style scoped>\n",
       "    .dataframe tbody tr th:only-of-type {\n",
       "        vertical-align: middle;\n",
       "    }\n",
       "\n",
       "    .dataframe tbody tr th {\n",
       "        vertical-align: top;\n",
       "    }\n",
       "\n",
       "    .dataframe thead th {\n",
       "        text-align: right;\n",
       "    }\n",
       "</style>\n",
       "<table border=\"1\" class=\"dataframe\">\n",
       "  <thead>\n",
       "    <tr style=\"text-align: right;\">\n",
       "      <th></th>\n",
       "      <th>month</th>\n",
       "      <th>sales</th>\n",
       "    </tr>\n",
       "  </thead>\n",
       "  <tbody>\n",
       "    <tr>\n",
       "      <th>0</th>\n",
       "      <td>April</td>\n",
       "      <td>118941.08</td>\n",
       "    </tr>\n",
       "    <tr>\n",
       "      <th>1</th>\n",
       "      <td>February</td>\n",
       "      <td>76145.19</td>\n",
       "    </tr>\n",
       "    <tr>\n",
       "      <th>2</th>\n",
       "      <td>January</td>\n",
       "      <td>81677.74</td>\n",
       "    </tr>\n",
       "    <tr>\n",
       "      <th>3</th>\n",
       "      <td>June</td>\n",
       "      <td>166485.88</td>\n",
       "    </tr>\n",
       "    <tr>\n",
       "      <th>4</th>\n",
       "      <td>March</td>\n",
       "      <td>98834.68</td>\n",
       "    </tr>\n",
       "    <tr>\n",
       "      <th>5</th>\n",
       "      <td>May</td>\n",
       "      <td>156727.76</td>\n",
       "    </tr>\n",
       "  </tbody>\n",
       "</table>\n",
       "</div>"
      ],
      "text/plain": [
       "      month      sales\n",
       "0     April  118941.08\n",
       "1  February   76145.19\n",
       "2   January   81677.74\n",
       "3      June  166485.88\n",
       "4     March   98834.68\n",
       "5       May  156727.76"
      ]
     },
     "execution_count": 30,
     "metadata": {},
     "output_type": "execute_result"
    }
   ],
   "source": [
    "# Sum of sales for each month\n",
    "revenue = df.groupby('month')['sales'].sum().reset_index()\n",
    "revenue"
   ]
  },
  {
   "cell_type": "code",
   "execution_count": 31,
   "id": "f888fd0e-d424-4dd2-835f-354ffd11afd6",
   "metadata": {},
   "outputs": [
    {
     "data": {
      "image/png": "[encoded data removed]",
      "text/plain": [
       "<Figure size 1000x800 with 1 Axes>"
      ]
     },
     "metadata": {},
     "output_type": "display_data"
    }
   ],
   "source": [
    "plt.figure(figsize=(10, 8))\n",
    "month_order = ['January', 'February', 'March', 'April', 'May', 'June']\n",
    "sns.barplot(data = revenue, x = 'month', y = 'sales', hue = 'month', order = month_order, errorbar = None)\n",
    "plt.title('Sales by Month', fontsize = 18)\n",
    "plt.xlabel('Month')\n",
    "plt.ylabel('Sales')\n",
    "plt.show()"
   ]
  },
  {
   "cell_type": "markdown",
   "id": "dccf14c7-ea65-4a86-a2b1-607cf698019b",
   "metadata": {},
   "source": [
    "### 0.6 Sales by Location"
   ]
  },
  {
   "cell_type": "code",
   "execution_count": 32,
   "id": "982fc69c-bd3b-4bd3-81a9-c531f39a785f",
   "metadata": {},
   "outputs": [
    {
     "data": {
      "text/html": [
       "<div>\n",
       "<style scoped>\n",
       "    .dataframe tbody tr th:only-of-type {\n",
       "        vertical-align: middle;\n",
       "    }\n",
       "\n",
       "    .dataframe tbody tr th {\n",
       "        vertical-align: top;\n",
       "    }\n",
       "\n",
       "    .dataframe thead th {\n",
       "        text-align: right;\n",
       "    }\n",
       "</style>\n",
       "<table border=\"1\" class=\"dataframe\">\n",
       "  <thead>\n",
       "    <tr style=\"text-align: right;\">\n",
       "      <th></th>\n",
       "      <th>location</th>\n",
       "      <th>sales</th>\n",
       "    </tr>\n",
       "  </thead>\n",
       "  <tbody>\n",
       "    <tr>\n",
       "      <th>0</th>\n",
       "      <td>Astoria</td>\n",
       "      <td>232243.91</td>\n",
       "    </tr>\n",
       "    <tr>\n",
       "      <th>1</th>\n",
       "      <td>Hell's Kitchen</td>\n",
       "      <td>236511.17</td>\n",
       "    </tr>\n",
       "    <tr>\n",
       "      <th>2</th>\n",
       "      <td>Lower Manhattan</td>\n",
       "      <td>230057.25</td>\n",
       "    </tr>\n",
       "  </tbody>\n",
       "</table>\n",
       "</div>"
      ],
      "text/plain": [
       "          location      sales\n",
       "0          Astoria  232243.91\n",
       "1   Hell's Kitchen  236511.17\n",
       "2  Lower Manhattan  230057.25"
      ]
     },
     "execution_count": 32,
     "metadata": {},
     "output_type": "execute_result"
    }
   ],
   "source": [
    "# Sum of sales for each location\n",
    "location_revenue = df.groupby('location')['sales'].sum().reset_index()\n",
    "location_revenue"
   ]
  },
  {
   "cell_type": "code",
   "execution_count": 33,
   "id": "3dc80bba-4694-48ea-a9be-78fb6508748e",
   "metadata": {},
   "outputs": [
    {
     "data": {
      "image/png": "[encoded data removed]",
      "text/plain": [
       "<Figure size 1000x800 with 1 Axes>"
      ]
     },
     "metadata": {},
     "output_type": "display_data"
    }
   ],
   "source": [
    "plt.figure(figsize=(10, 8))\n",
    "sns.barplot(data = location_revenue, x = 'location', y = 'sales', hue = 'location', errorbar = None)\n",
    "plt.title('Sales by Location', fontsize = 18)\n",
    "plt.xlabel('Month')\n",
    "plt.ylabel('Sales')\n",
    "plt.show()"
   ]
  },
  {
   "cell_type": "markdown",
   "id": "27e06c6f-f98a-4117-af5f-78b6082cd9fd",
   "metadata": {},
   "source": [
    "### 0.7 Top 10 Popular Product by Revenue"
   ]
  },
  {
   "cell_type": "code",
   "execution_count": 34,
   "id": "477fea34-fbb4-4de7-8cd1-b2da33f5f6ef",
   "metadata": {},
   "outputs": [
    {
     "data": {
      "text/html": [
       "<div>\n",
       "<style scoped>\n",
       "    .dataframe tbody tr th:only-of-type {\n",
       "        vertical-align: middle;\n",
       "    }\n",
       "\n",
       "    .dataframe tbody tr th {\n",
       "        vertical-align: top;\n",
       "    }\n",
       "\n",
       "    .dataframe thead th {\n",
       "        text-align: right;\n",
       "    }\n",
       "</style>\n",
       "<table border=\"1\" class=\"dataframe\">\n",
       "  <thead>\n",
       "    <tr style=\"text-align: right;\">\n",
       "      <th></th>\n",
       "      <th>product</th>\n",
       "      <th>sales</th>\n",
       "    </tr>\n",
       "  </thead>\n",
       "  <tbody>\n",
       "    <tr>\n",
       "      <th>0</th>\n",
       "      <td>Barista Espresso</td>\n",
       "      <td>91406.20</td>\n",
       "    </tr>\n",
       "    <tr>\n",
       "      <th>1</th>\n",
       "      <td>Biscotti</td>\n",
       "      <td>19793.53</td>\n",
       "    </tr>\n",
       "    <tr>\n",
       "      <th>2</th>\n",
       "      <td>Black tea</td>\n",
       "      <td>2711.85</td>\n",
       "    </tr>\n",
       "    <tr>\n",
       "      <th>3</th>\n",
       "      <td>Brewed Black tea</td>\n",
       "      <td>47932.00</td>\n",
       "    </tr>\n",
       "    <tr>\n",
       "      <th>4</th>\n",
       "      <td>Brewed Chai tea</td>\n",
       "      <td>77081.95</td>\n",
       "    </tr>\n",
       "    <tr>\n",
       "      <th>5</th>\n",
       "      <td>Brewed Green tea</td>\n",
       "      <td>23852.50</td>\n",
       "    </tr>\n",
       "    <tr>\n",
       "      <th>6</th>\n",
       "      <td>Brewed herbal tea</td>\n",
       "      <td>47539.50</td>\n",
       "    </tr>\n",
       "    <tr>\n",
       "      <th>7</th>\n",
       "      <td>Chai tea</td>\n",
       "      <td>4301.25</td>\n",
       "    </tr>\n",
       "    <tr>\n",
       "      <th>8</th>\n",
       "      <td>Clothing</td>\n",
       "      <td>6163.00</td>\n",
       "    </tr>\n",
       "    <tr>\n",
       "      <th>9</th>\n",
       "      <td>Drinking Chocolate</td>\n",
       "      <td>2728.04</td>\n",
       "    </tr>\n",
       "    <tr>\n",
       "      <th>10</th>\n",
       "      <td>Drip coffee</td>\n",
       "      <td>31984.00</td>\n",
       "    </tr>\n",
       "    <tr>\n",
       "      <th>11</th>\n",
       "      <td>Espresso Beans</td>\n",
       "      <td>5560.25</td>\n",
       "    </tr>\n",
       "    <tr>\n",
       "      <th>12</th>\n",
       "      <td>Gourmet Beans</td>\n",
       "      <td>6798.00</td>\n",
       "    </tr>\n",
       "    <tr>\n",
       "      <th>13</th>\n",
       "      <td>Gourmet brewed coffee</td>\n",
       "      <td>70034.60</td>\n",
       "    </tr>\n",
       "    <tr>\n",
       "      <th>14</th>\n",
       "      <td>Green beans</td>\n",
       "      <td>1340.00</td>\n",
       "    </tr>\n",
       "    <tr>\n",
       "      <th>15</th>\n",
       "      <td>Green tea</td>\n",
       "      <td>1470.75</td>\n",
       "    </tr>\n",
       "    <tr>\n",
       "      <th>16</th>\n",
       "      <td>Herbal tea</td>\n",
       "      <td>2729.75</td>\n",
       "    </tr>\n",
       "    <tr>\n",
       "      <th>17</th>\n",
       "      <td>Hot chocolate</td>\n",
       "      <td>72416.00</td>\n",
       "    </tr>\n",
       "    <tr>\n",
       "      <th>18</th>\n",
       "      <td>House blend Beans</td>\n",
       "      <td>3294.00</td>\n",
       "    </tr>\n",
       "    <tr>\n",
       "      <th>19</th>\n",
       "      <td>Housewares</td>\n",
       "      <td>7444.00</td>\n",
       "    </tr>\n",
       "    <tr>\n",
       "      <th>20</th>\n",
       "      <td>Organic Beans</td>\n",
       "      <td>8509.50</td>\n",
       "    </tr>\n",
       "    <tr>\n",
       "      <th>21</th>\n",
       "      <td>Organic Chocolate</td>\n",
       "      <td>1679.60</td>\n",
       "    </tr>\n",
       "    <tr>\n",
       "      <th>22</th>\n",
       "      <td>Organic brewed coffee</td>\n",
       "      <td>37746.50</td>\n",
       "    </tr>\n",
       "    <tr>\n",
       "      <th>23</th>\n",
       "      <td>Pastry</td>\n",
       "      <td>25655.99</td>\n",
       "    </tr>\n",
       "    <tr>\n",
       "      <th>24</th>\n",
       "      <td>Premium Beans</td>\n",
       "      <td>14583.50</td>\n",
       "    </tr>\n",
       "    <tr>\n",
       "      <th>25</th>\n",
       "      <td>Premium brewed coffee</td>\n",
       "      <td>38781.15</td>\n",
       "    </tr>\n",
       "    <tr>\n",
       "      <th>26</th>\n",
       "      <td>Regular syrup</td>\n",
       "      <td>6084.80</td>\n",
       "    </tr>\n",
       "    <tr>\n",
       "      <th>27</th>\n",
       "      <td>Scone</td>\n",
       "      <td>36866.12</td>\n",
       "    </tr>\n",
       "    <tr>\n",
       "      <th>28</th>\n",
       "      <td>Sugar free syrup</td>\n",
       "      <td>2324.00</td>\n",
       "    </tr>\n",
       "  </tbody>\n",
       "</table>\n",
       "</div>"
      ],
      "text/plain": [
       "                  product     sales\n",
       "0        Barista Espresso  91406.20\n",
       "1                Biscotti  19793.53\n",
       "2               Black tea   2711.85\n",
       "3        Brewed Black tea  47932.00\n",
       "4         Brewed Chai tea  77081.95\n",
       "5        Brewed Green tea  23852.50\n",
       "6       Brewed herbal tea  47539.50\n",
       "7                Chai tea   4301.25\n",
       "8                Clothing   6163.00\n",
       "9      Drinking Chocolate   2728.04\n",
       "10            Drip coffee  31984.00\n",
       "11         Espresso Beans   5560.25\n",
       "12          Gourmet Beans   6798.00\n",
       "13  Gourmet brewed coffee  70034.60\n",
       "14            Green beans   1340.00\n",
       "15              Green tea   1470.75\n",
       "16             Herbal tea   2729.75\n",
       "17          Hot chocolate  72416.00\n",
       "18      House blend Beans   3294.00\n",
       "19             Housewares   7444.00\n",
       "20          Organic Beans   8509.50\n",
       "21      Organic Chocolate   1679.60\n",
       "22  Organic brewed coffee  37746.50\n",
       "23                 Pastry  25655.99\n",
       "24          Premium Beans  14583.50\n",
       "25  Premium brewed coffee  38781.15\n",
       "26          Regular syrup   6084.80\n",
       "27                  Scone  36866.12\n",
       "28       Sugar free syrup   2324.00"
      ]
     },
     "execution_count": 34,
     "metadata": {},
     "output_type": "execute_result"
    }
   ],
   "source": [
    "product_revenue = df.groupby('product')['sales'].sum().reset_index()\n",
    "product_revenue"
   ]
  },
  {
   "cell_type": "code",
   "execution_count": 35,
   "id": "b0a0cf8e-8dba-490f-9d69-510a93bb17e7",
   "metadata": {},
   "outputs": [
    {
     "data": {
      "image/png": "[encoded data removed]",
      "text/plain": [
       "<Figure size 1000x800 with 1 Axes>"
      ]
     },
     "metadata": {},
     "output_type": "display_data"
    }
   ],
   "source": [
    "plt.figure(figsize = (10, 8))\n",
    "ax = sns.barplot(x = 'product', y = 'sales', hue='product', palette='RdBu', data = product_revenue.sort_values('sales', ascending = False)[0:10])\n",
    "# x-axis rotation\n",
    "plt.xticks(rotation=90)\n",
    "plt.title('Top 10 Popular Products by Revenue', fontsize = 18)\n",
    "plt.xlabel('Products')\n",
    "plt.ylabel('Sales')\n",
    "plt.show()"
   ]
  },
  {
   "cell_type": "markdown",
   "id": "148eeaa6-52b2-45f2-8635-1298c2f60cef",
   "metadata": {},
   "source": [
    "### 0.8 Average Order Value (AOV) by Product Category"
   ]
  },
  {
   "cell_type": "code",
   "execution_count": 36,
   "id": "7a78655b-3cd5-4d7b-9de2-cbe0a0e163bb",
   "metadata": {},
   "outputs": [
    {
     "data": {
      "text/html": [
       "<div>\n",
       "<style scoped>\n",
       "    .dataframe tbody tr th:only-of-type {\n",
       "        vertical-align: middle;\n",
       "    }\n",
       "\n",
       "    .dataframe tbody tr th {\n",
       "        vertical-align: top;\n",
       "    }\n",
       "\n",
       "    .dataframe thead th {\n",
       "        text-align: right;\n",
       "    }\n",
       "</style>\n",
       "<table border=\"1\" class=\"dataframe\">\n",
       "  <thead>\n",
       "    <tr style=\"text-align: right;\">\n",
       "      <th></th>\n",
       "      <th>category</th>\n",
       "      <th>sales</th>\n",
       "    </tr>\n",
       "  </thead>\n",
       "  <tbody>\n",
       "    <tr>\n",
       "      <th>0</th>\n",
       "      <td>Bakery</td>\n",
       "      <td>3.610969</td>\n",
       "    </tr>\n",
       "    <tr>\n",
       "      <th>1</th>\n",
       "      <td>Branded</td>\n",
       "      <td>18.215529</td>\n",
       "    </tr>\n",
       "    <tr>\n",
       "      <th>2</th>\n",
       "      <td>Coffee</td>\n",
       "      <td>4.621207</td>\n",
       "    </tr>\n",
       "    <tr>\n",
       "      <th>3</th>\n",
       "      <td>Coffee beans</td>\n",
       "      <td>22.866657</td>\n",
       "    </tr>\n",
       "    <tr>\n",
       "      <th>4</th>\n",
       "      <td>Drinking Chocolate</td>\n",
       "      <td>6.314615</td>\n",
       "    </tr>\n",
       "    <tr>\n",
       "      <th>5</th>\n",
       "      <td>Flavours</td>\n",
       "      <td>1.238409</td>\n",
       "    </tr>\n",
       "    <tr>\n",
       "      <th>6</th>\n",
       "      <td>Loose Tea</td>\n",
       "      <td>9.267438</td>\n",
       "    </tr>\n",
       "    <tr>\n",
       "      <th>7</th>\n",
       "      <td>Packaged Chocolate</td>\n",
       "      <td>9.050595</td>\n",
       "    </tr>\n",
       "    <tr>\n",
       "      <th>8</th>\n",
       "      <td>Tea</td>\n",
       "      <td>4.321458</td>\n",
       "    </tr>\n",
       "  </tbody>\n",
       "</table>\n",
       "</div>"
      ],
      "text/plain": [
       "             category      sales\n",
       "0              Bakery   3.610969\n",
       "1             Branded  18.215529\n",
       "2              Coffee   4.621207\n",
       "3        Coffee beans  22.866657\n",
       "4  Drinking Chocolate   6.314615\n",
       "5            Flavours   1.238409\n",
       "6           Loose Tea   9.267438\n",
       "7  Packaged Chocolate   9.050595\n",
       "8                 Tea   4.321458"
      ]
     },
     "execution_count": 36,
     "metadata": {},
     "output_type": "execute_result"
    }
   ],
   "source": [
    "category_aov = df.groupby('category')['sales'].mean().reset_index()\n",
    "category_aov"
   ]
  },
  {
   "cell_type": "code",
   "execution_count": 37,
   "id": "c625d52f-fd7b-44c1-97c9-e5f49e036dc9",
   "metadata": {},
   "outputs": [
    {
     "data": {
      "image/png": "[encoded data removed]",
      "text/plain": [
       "<Figure size 1000x800 with 1 Axes>"
      ]
     },
     "metadata": {},
     "output_type": "display_data"
    }
   ],
   "source": [
    "plt.figure(figsize = (10, 8))\n",
    "sns.barplot(x = 'sales', y = 'category', hue = 'category', palette='RdBu', data = category_aov.sort_values('sales', ascending = False))\n",
    "plt.title('Average Order Value by Category', fontsize = 18)\n",
    "plt.xlabel('Sales')\n",
    "plt.ylabel('Category')\n",
    "plt.show()"
   ]
  },
  {
   "cell_type": "markdown",
   "id": "a622a009-8b3b-4a78-8ffc-798084ddad5e",
   "metadata": {},
   "source": [
    "### 0.9 Popular Category"
   ]
  },
  {
   "cell_type": "code",
   "execution_count": 38,
   "id": "66e284c5-f9c2-4c37-944b-891f42068f57",
   "metadata": {},
   "outputs": [
    {
     "data": {
      "text/html": [
       "<div>\n",
       "<style scoped>\n",
       "    .dataframe tbody tr th:only-of-type {\n",
       "        vertical-align: middle;\n",
       "    }\n",
       "\n",
       "    .dataframe tbody tr th {\n",
       "        vertical-align: top;\n",
       "    }\n",
       "\n",
       "    .dataframe thead th {\n",
       "        text-align: right;\n",
       "    }\n",
       "</style>\n",
       "<table border=\"1\" class=\"dataframe\">\n",
       "  <thead>\n",
       "    <tr style=\"text-align: right;\">\n",
       "      <th></th>\n",
       "      <th>category</th>\n",
       "      <th>count</th>\n",
       "    </tr>\n",
       "  </thead>\n",
       "  <tbody>\n",
       "    <tr>\n",
       "      <th>0</th>\n",
       "      <td>Coffee</td>\n",
       "      <td>58416</td>\n",
       "    </tr>\n",
       "    <tr>\n",
       "      <th>1</th>\n",
       "      <td>Tea</td>\n",
       "      <td>45449</td>\n",
       "    </tr>\n",
       "    <tr>\n",
       "      <th>2</th>\n",
       "      <td>Bakery</td>\n",
       "      <td>22796</td>\n",
       "    </tr>\n",
       "    <tr>\n",
       "      <th>3</th>\n",
       "      <td>Drinking Chocolate</td>\n",
       "      <td>11468</td>\n",
       "    </tr>\n",
       "    <tr>\n",
       "      <th>4</th>\n",
       "      <td>Flavours</td>\n",
       "      <td>6790</td>\n",
       "    </tr>\n",
       "    <tr>\n",
       "      <th>5</th>\n",
       "      <td>Coffee beans</td>\n",
       "      <td>1753</td>\n",
       "    </tr>\n",
       "    <tr>\n",
       "      <th>6</th>\n",
       "      <td>Loose Tea</td>\n",
       "      <td>1210</td>\n",
       "    </tr>\n",
       "    <tr>\n",
       "      <th>7</th>\n",
       "      <td>Branded</td>\n",
       "      <td>747</td>\n",
       "    </tr>\n",
       "    <tr>\n",
       "      <th>8</th>\n",
       "      <td>Packaged Chocolate</td>\n",
       "      <td>487</td>\n",
       "    </tr>\n",
       "  </tbody>\n",
       "</table>\n",
       "</div>"
      ],
      "text/plain": [
       "             category  count\n",
       "0              Coffee  58416\n",
       "1                 Tea  45449\n",
       "2              Bakery  22796\n",
       "3  Drinking Chocolate  11468\n",
       "4            Flavours   6790\n",
       "5        Coffee beans   1753\n",
       "6           Loose Tea   1210\n",
       "7             Branded    747\n",
       "8  Packaged Chocolate    487"
      ]
     },
     "execution_count": 38,
     "metadata": {},
     "output_type": "execute_result"
    }
   ],
   "source": [
    "# count of category\n",
    "category_count = df['category'].value_counts().reset_index()\n",
    "category_count"
   ]
  },
  {
   "cell_type": "code",
   "execution_count": 39,
   "id": "a4b1921c-190e-471a-b649-cd22371ef3f8",
   "metadata": {},
   "outputs": [
    {
     "data": {
      "image/png": "[encoded data removed]",
      "text/plain": [
       "<Figure size 1000x800 with 1 Axes>"
      ]
     },
     "metadata": {},
     "output_type": "display_data"
    }
   ],
   "source": [
    "plt.figure(figsize = (10, 8))\n",
    "sns.barplot(data = category_count, x = 'count', y = 'category', hue = 'category', palette='RdBu')\n",
    "plt.title('Popular Category', fontsize = 18)\n",
    "plt.xlabel('Count of Category')\n",
    "plt.ylabel('Category')\n",
    "plt.show()"
   ]
  },
  {
   "cell_type": "markdown",
   "id": "223ba6f1-f38c-421d-a509-4dcd562de6e1",
   "metadata": {},
   "source": [
    "### 0.10 Peak Hour"
   ]
  },
  {
   "cell_type": "code",
   "execution_count": 40,
   "id": "602caf16-6db7-4464-89c5-0d5f99d28808",
   "metadata": {},
   "outputs": [
    {
     "data": {
      "text/html": [
       "<div>\n",
       "<style scoped>\n",
       "    .dataframe tbody tr th:only-of-type {\n",
       "        vertical-align: middle;\n",
       "    }\n",
       "\n",
       "    .dataframe tbody tr th {\n",
       "        vertical-align: top;\n",
       "    }\n",
       "\n",
       "    .dataframe thead th {\n",
       "        text-align: right;\n",
       "    }\n",
       "</style>\n",
       "<table border=\"1\" class=\"dataframe\">\n",
       "  <thead>\n",
       "    <tr style=\"text-align: right;\">\n",
       "      <th></th>\n",
       "      <th>hour</th>\n",
       "      <th>id</th>\n",
       "    </tr>\n",
       "  </thead>\n",
       "  <tbody>\n",
       "    <tr>\n",
       "      <th>0</th>\n",
       "      <td>6</td>\n",
       "      <td>4594</td>\n",
       "    </tr>\n",
       "    <tr>\n",
       "      <th>1</th>\n",
       "      <td>7</td>\n",
       "      <td>13428</td>\n",
       "    </tr>\n",
       "    <tr>\n",
       "      <th>2</th>\n",
       "      <td>8</td>\n",
       "      <td>17654</td>\n",
       "    </tr>\n",
       "    <tr>\n",
       "      <th>3</th>\n",
       "      <td>9</td>\n",
       "      <td>17764</td>\n",
       "    </tr>\n",
       "    <tr>\n",
       "      <th>4</th>\n",
       "      <td>10</td>\n",
       "      <td>18545</td>\n",
       "    </tr>\n",
       "    <tr>\n",
       "      <th>5</th>\n",
       "      <td>11</td>\n",
       "      <td>9766</td>\n",
       "    </tr>\n",
       "    <tr>\n",
       "      <th>6</th>\n",
       "      <td>12</td>\n",
       "      <td>8708</td>\n",
       "    </tr>\n",
       "    <tr>\n",
       "      <th>7</th>\n",
       "      <td>13</td>\n",
       "      <td>8714</td>\n",
       "    </tr>\n",
       "    <tr>\n",
       "      <th>8</th>\n",
       "      <td>14</td>\n",
       "      <td>8933</td>\n",
       "    </tr>\n",
       "    <tr>\n",
       "      <th>9</th>\n",
       "      <td>15</td>\n",
       "      <td>8979</td>\n",
       "    </tr>\n",
       "    <tr>\n",
       "      <th>10</th>\n",
       "      <td>16</td>\n",
       "      <td>9093</td>\n",
       "    </tr>\n",
       "    <tr>\n",
       "      <th>11</th>\n",
       "      <td>17</td>\n",
       "      <td>8745</td>\n",
       "    </tr>\n",
       "    <tr>\n",
       "      <th>12</th>\n",
       "      <td>18</td>\n",
       "      <td>7498</td>\n",
       "    </tr>\n",
       "    <tr>\n",
       "      <th>13</th>\n",
       "      <td>19</td>\n",
       "      <td>6092</td>\n",
       "    </tr>\n",
       "    <tr>\n",
       "      <th>14</th>\n",
       "      <td>20</td>\n",
       "      <td>603</td>\n",
       "    </tr>\n",
       "  </tbody>\n",
       "</table>\n",
       "</div>"
      ],
      "text/plain": [
       "    hour     id\n",
       "0      6   4594\n",
       "1      7  13428\n",
       "2      8  17654\n",
       "3      9  17764\n",
       "4     10  18545\n",
       "5     11   9766\n",
       "6     12   8708\n",
       "7     13   8714\n",
       "8     14   8933\n",
       "9     15   8979\n",
       "10    16   9093\n",
       "11    17   8745\n",
       "12    18   7498\n",
       "13    19   6092\n",
       "14    20    603"
      ]
     },
     "execution_count": 40,
     "metadata": {},
     "output_type": "execute_result"
    }
   ],
   "source": [
    "order_per_hour = df.groupby('hour')['id'].count().reset_index()\n",
    "order_per_hour"
   ]
  },
  {
   "cell_type": "code",
   "execution_count": 42,
   "id": "1c6f4bf9-d05b-40de-a58f-1e658b48e424",
   "metadata": {},
   "outputs": [],
   "source": [
    "# rename columns\n",
    "order_per_hour.rename(columns = {'id':'count_of_orders'}, inplace = True)"
   ]
  },
  {
   "cell_type": "code",
   "execution_count": 43,
   "id": "9539202a-77b6-4054-b261-7c1f4a5a1d06",
   "metadata": {},
   "outputs": [
    {
     "data": {
      "image/png": "[encoded data removed]",
      "text/plain": [
       "<Figure size 1000x800 with 1 Axes>"
      ]
     },
     "metadata": {},
     "output_type": "display_data"
    }
   ],
   "source": [
    "plt.figure(figsize = (10, 8))\n",
    "sns.lineplot(x = 'hour', y = 'count_of_orders', data = order_per_hour, marker='o')\n",
    "plt.xlabel('Hour')\n",
    "plt.ylabel('Count of Orders')\n",
    "plt.title('Peak Hour', fontsize = 18)\n",
    "# Set the x-axis limits to the min and max values of 'hour'\n",
    "plt.xticks(range(order_per_hour['hour'].min(), order_per_hour['hour'].max() + 1))\n",
    "plt.show()"
   ]
  },
  {
   "cell_type": "markdown",
   "id": "e5d70b95-fd84-4350-add8-b75287207ddf",
   "metadata": {},
   "source": [
    "### 0.11 Peak Day"
   ]
  },
  {
   "cell_type": "code",
   "execution_count": 38,
   "id": "d250a3a8-81f9-4c67-9afc-10efff60671f",
   "metadata": {},
   "outputs": [
    {
     "data": {
      "image/png": "[encoded data removed]",
      "text/plain": [
       "<Figure size 1000x800 with 1 Axes>"
      ]
     },
     "metadata": {},
     "output_type": "display_data"
    }
   ],
   "source": [
    "plt.figure(figsize = (10, 8))\n",
    "weekdays_order = ['Sunday', 'Monday', 'Tuesday', 'Wednesday', 'Thursday', 'Friday', 'Saturday']\n",
    "ax = sns.countplot(x = 'weekday', data = df, hue = 'weekday', palette='RdBu', order = weekdays_order)\n",
    "\n",
    "# Add count values inside the bars\n",
    "for p in ax.patches:\n",
    "    ax.annotate(f'{p.get_height()}', \n",
    "                (p.get_x() + p.get_width() / 2., p.get_height()),   # x and y position of the text\n",
    "                ha = 'center', va = 'center', \n",
    "                xytext = (0, 7), textcoords='offset points')  \n",
    "\n",
    "plt.xlabel('Weekday')\n",
    "plt.ylabel('Count of Orders')\n",
    "plt.title('Peak Day', fontsize = 18)\n",
    "plt.show()"
   ]
  },
  {
   "cell_type": "markdown",
   "id": "c29c3b4e-919f-49f4-9df8-4576c8ee08e9",
   "metadata": {},
   "source": [
    "### 0.12 Distribution of orders across different coffee types"
   ]
  },
  {
   "cell_type": "code",
   "execution_count": 39,
   "id": "7695e9a7-327f-4c76-8aa8-64932cab61a1",
   "metadata": {},
   "outputs": [
    {
     "data": {
      "text/html": [
       "<div>\n",
       "<style scoped>\n",
       "    .dataframe tbody tr th:only-of-type {\n",
       "        vertical-align: middle;\n",
       "    }\n",
       "\n",
       "    .dataframe tbody tr th {\n",
       "        vertical-align: top;\n",
       "    }\n",
       "\n",
       "    .dataframe thead th {\n",
       "        text-align: right;\n",
       "    }\n",
       "</style>\n",
       "<table border=\"1\" class=\"dataframe\">\n",
       "  <thead>\n",
       "    <tr style=\"text-align: right;\">\n",
       "      <th></th>\n",
       "      <th>product</th>\n",
       "    </tr>\n",
       "  </thead>\n",
       "  <tbody>\n",
       "    <tr>\n",
       "      <th>0</th>\n",
       "      <td>Gourmet brewed coffee</td>\n",
       "    </tr>\n",
       "    <tr>\n",
       "      <th>3</th>\n",
       "      <td>Drip coffee</td>\n",
       "    </tr>\n",
       "    <tr>\n",
       "      <th>6</th>\n",
       "      <td>Drip coffee</td>\n",
       "    </tr>\n",
       "    <tr>\n",
       "      <th>7</th>\n",
       "      <td>Gourmet brewed coffee</td>\n",
       "    </tr>\n",
       "    <tr>\n",
       "      <th>8</th>\n",
       "      <td>Barista Espresso</td>\n",
       "    </tr>\n",
       "    <tr>\n",
       "      <th>...</th>\n",
       "      <td>...</td>\n",
       "    </tr>\n",
       "    <tr>\n",
       "      <th>149103</th>\n",
       "      <td>Organic brewed coffee</td>\n",
       "    </tr>\n",
       "    <tr>\n",
       "      <th>149104</th>\n",
       "      <td>Premium brewed coffee</td>\n",
       "    </tr>\n",
       "    <tr>\n",
       "      <th>149105</th>\n",
       "      <td>Drip coffee</td>\n",
       "    </tr>\n",
       "    <tr>\n",
       "      <th>149106</th>\n",
       "      <td>Gourmet brewed coffee</td>\n",
       "    </tr>\n",
       "    <tr>\n",
       "      <th>149114</th>\n",
       "      <td>Barista Espresso</td>\n",
       "    </tr>\n",
       "  </tbody>\n",
       "</table>\n",
       "<p>58416 rows × 1 columns</p>\n",
       "</div>"
      ],
      "text/plain": [
       "                      product\n",
       "0       Gourmet brewed coffee\n",
       "3                 Drip coffee\n",
       "6                 Drip coffee\n",
       "7       Gourmet brewed coffee\n",
       "8            Barista Espresso\n",
       "...                       ...\n",
       "149103  Organic brewed coffee\n",
       "149104  Premium brewed coffee\n",
       "149105            Drip coffee\n",
       "149106  Gourmet brewed coffee\n",
       "149114       Barista Espresso\n",
       "\n",
       "[58416 rows x 1 columns]"
      ]
     },
     "execution_count": 39,
     "metadata": {},
     "output_type": "execute_result"
    }
   ],
   "source": [
    "coffee_type = df[df['category'] == 'Coffee'][['product']]\n",
    "coffee_type"
   ]
  },
  {
   "cell_type": "code",
   "execution_count": 40,
   "id": "4431666b-6500-4206-ba7f-83f89aea4698",
   "metadata": {},
   "outputs": [
    {
     "data": {
      "text/html": [
       "<div>\n",
       "<style scoped>\n",
       "    .dataframe tbody tr th:only-of-type {\n",
       "        vertical-align: middle;\n",
       "    }\n",
       "\n",
       "    .dataframe tbody tr th {\n",
       "        vertical-align: top;\n",
       "    }\n",
       "\n",
       "    .dataframe thead th {\n",
       "        text-align: right;\n",
       "    }\n",
       "</style>\n",
       "<table border=\"1\" class=\"dataframe\">\n",
       "  <thead>\n",
       "    <tr style=\"text-align: right;\">\n",
       "      <th></th>\n",
       "      <th>product</th>\n",
       "      <th>count</th>\n",
       "    </tr>\n",
       "  </thead>\n",
       "  <tbody>\n",
       "    <tr>\n",
       "      <th>0</th>\n",
       "      <td>Gourmet brewed coffee</td>\n",
       "      <td>16912</td>\n",
       "    </tr>\n",
       "    <tr>\n",
       "      <th>1</th>\n",
       "      <td>Barista Espresso</td>\n",
       "      <td>16403</td>\n",
       "    </tr>\n",
       "    <tr>\n",
       "      <th>2</th>\n",
       "      <td>Organic brewed coffee</td>\n",
       "      <td>8489</td>\n",
       "    </tr>\n",
       "    <tr>\n",
       "      <th>3</th>\n",
       "      <td>Drip coffee</td>\n",
       "      <td>8477</td>\n",
       "    </tr>\n",
       "    <tr>\n",
       "      <th>4</th>\n",
       "      <td>Premium brewed coffee</td>\n",
       "      <td>8135</td>\n",
       "    </tr>\n",
       "  </tbody>\n",
       "</table>\n",
       "</div>"
      ],
      "text/plain": [
       "                 product  count\n",
       "0  Gourmet brewed coffee  16912\n",
       "1       Barista Espresso  16403\n",
       "2  Organic brewed coffee   8489\n",
       "3            Drip coffee   8477\n",
       "4  Premium brewed coffee   8135"
      ]
     },
     "execution_count": 40,
     "metadata": {},
     "output_type": "execute_result"
    }
   ],
   "source": [
    "coffee_type_count = coffee_type['product'].value_counts().reset_index()\n",
    "coffee_type_count"
   ]
  },
  {
   "cell_type": "code",
   "execution_count": 41,
   "id": "693859db-98bd-4b0d-a517-5dc1694f3939",
   "metadata": {},
   "outputs": [
    {
     "data": {
      "image/png": "[encoded data removed]",
      "text/plain": [
       "<Figure size 1000x800 with 1 Axes>"
      ]
     },
     "metadata": {},
     "output_type": "display_data"
    }
   ],
   "source": [
    "plt.figure(figsize = (10, 8))\n",
    "sns.barplot(data = coffee_type_count, x = 'count', y = 'product', hue = 'product' )\n",
    "plt.title('Order Distribution by Coffee Type', fontsize = 18)\n",
    "plt.xlabel('Count of Orders')\n",
    "plt.ylabel('Coffee Types')\n",
    "plt.show()"
   ]
  },
  {
   "cell_type": "code",
   "execution_count": null,
   "id": "350c62a5-72d1-4c62-9ed1-fedf08bed13f",
   "metadata": {},
   "outputs": [],
   "source": []
  }
 ],
 "metadata": {
  "kernelspec": {
   "display_name": "Python 3",
   "language": "python",
   "name": "python3"
  },
  "language_info": {
   "codemirror_mode": {
    "name": "ipython",
    "version": 3
   },
   "file_extension": ".py",
   "mimetype": "text/x-python",
   "name": "python",
   "nbconvert_exporter": "python",
   "pygments_lexer": "ipython3",
   "version": "3.11.9"
  }
 },
 "nbformat": 4,
 "nbformat_minor": 5
}
