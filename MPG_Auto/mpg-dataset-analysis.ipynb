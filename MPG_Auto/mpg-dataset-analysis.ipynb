{
 "cells": [
  {
   "cell_type": "markdown",
   "id": "14a91ed2",
   "metadata": {
    "_cell_guid": "b1076dfc-b9ad-4769-8c92-a6c4dae69d19",
    "_uuid": "8f2839f25d086af736a60e9eeb907d3b93b6e0e5",
    "execution": {
     "iopub.execute_input": "2021-11-14T14:27:02.432965Z",
     "iopub.status.busy": "2021-11-14T14:27:02.432575Z",
     "iopub.status.idle": "2021-11-14T14:27:03.398451Z",
     "shell.execute_reply": "2021-11-14T14:27:03.397518Z",
     "shell.execute_reply.started": "2021-11-14T14:27:02.432866Z"
    },
    "papermill": {
     "duration": 0.041806,
     "end_time": "2022-04-23T20:02:05.457029",
     "exception": false,
     "start_time": "2022-04-23T20:02:05.415223",
     "status": "completed"
    },
    "tags": []
   },
   "source": [
    "## Dataset Overview\n",
    "\n",
    "The MPG dataset contains technical specifications of various automobiles, originally sourced from the [UCI Machine Learning Repository](https://archive.ics.uci.edu/ml/datasets/auto+mpg). It focuses on analyzing fuel efficiency, measured in miles per gallon (MPG), using a combination of three categorical and five numerical features.\n",
    "\n",
    "---\n",
    "\n",
    "## Column Descriptions\n",
    "\n",
    "1. `mpg`: Fuel efficiency in miles per gallon (continuous).\n",
    "2. `cylinders`: Number of engine cylinders (categorical, multi-valued).\n",
    "3. `displacement`: Engine displacement size (continuous).\n",
    "4. `horsepower`: Engine output power (continuous).\n",
    "5. `weight`: Vehicle weight (continuous).\n",
    "6. `acceleration`: Time taken to accelerate per second (continuous).\n",
    "7. `model year`: Release year of the car, ranging from 1970 to 1982 (categorical, multi-valued).\n",
    "8. `origin`: Region of manufacture (1 = USA, 2 = Europe, 3 = Asia) (categorical, multi-valued).\n",
    "9. `car name`: Specific name of the car model (unique identifier for each record).\n"
   ]
  }
 ],
 "metadata": {
  "kernelspec": {
   "display_name": "Python 3",
   "language": "python",
   "name": "python3"
  },
  "language_info": {
   "codemirror_mode": {
    "name": "ipython",
    "version": 3
   },
   "file_extension": ".py",
   "mimetype": "text/x-python",
   "name": "python",
   "nbconvert_exporter": "python",
   "pygments_lexer": "ipython3",
   "version": "3.7.10"
  },
  "papermill": {
   "default_parameters": {},
   "duration": 22.455003,
   "end_time": "2022-04-23T20:02:18.323538",
   "environment_variables": {},
   "exception": null,
   "input_path": "__notebook__.ipynb",
   "output_path": "__notebook__.ipynb",
   "parameters": {},
   "start_time": "2022-04-23T20:01:55.868535",
   "version": "2.3.3"
  }
 },
 "nbformat": 4,
 "nbformat_minor": 5
}
